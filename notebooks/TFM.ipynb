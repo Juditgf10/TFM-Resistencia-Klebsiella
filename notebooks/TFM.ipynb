{
 "cells": [
  {
   "cell_type": "code",
   "execution_count": 4,
   "id": "443869e0-4979-4abc-8493-0c8a43debcd8",
   "metadata": {
    "scrolled": true
   },
   "outputs": [
    {
     "name": "stdout",
     "output_type": "stream",
     "text": [
      "Requirement already satisfied: pandas in c:\\users\\judit\\appdata\\local\\programs\\python\\python313\\lib\\site-packages (2.2.3)\n",
      "Requirement already satisfied: numpy in c:\\users\\judit\\appdata\\local\\programs\\python\\python313\\lib\\site-packages (2.2.4)\n",
      "Requirement already satisfied: matplotlib in c:\\users\\judit\\appdata\\local\\programs\\python\\python313\\lib\\site-packages (3.10.1)\n",
      "Requirement already satisfied: seaborn in c:\\users\\judit\\appdata\\local\\programs\\python\\python313\\lib\\site-packages (0.13.2)\n",
      "Requirement already satisfied: scikit-learn in c:\\users\\judit\\appdata\\local\\programs\\python\\python313\\lib\\site-packages (1.6.1)\n",
      "Requirement already satisfied: openpyxl in c:\\users\\judit\\appdata\\local\\programs\\python\\python313\\lib\\site-packages (3.1.5)\n",
      "Requirement already satisfied: biopython in c:\\users\\judit\\appdata\\local\\programs\\python\\python313\\lib\\site-packages (1.85)\n",
      "Requirement already satisfied: python-dateutil>=2.8.2 in c:\\users\\judit\\appdata\\local\\programs\\python\\python313\\lib\\site-packages (from pandas) (2.9.0.post0)\n",
      "Requirement already satisfied: pytz>=2020.1 in c:\\users\\judit\\appdata\\local\\programs\\python\\python313\\lib\\site-packages (from pandas) (2025.2)\n",
      "Requirement already satisfied: tzdata>=2022.7 in c:\\users\\judit\\appdata\\local\\programs\\python\\python313\\lib\\site-packages (from pandas) (2025.2)\n",
      "Requirement already satisfied: contourpy>=1.0.1 in c:\\users\\judit\\appdata\\local\\programs\\python\\python313\\lib\\site-packages (from matplotlib) (1.3.1)\n",
      "Requirement already satisfied: cycler>=0.10 in c:\\users\\judit\\appdata\\local\\programs\\python\\python313\\lib\\site-packages (from matplotlib) (0.12.1)\n",
      "Requirement already satisfied: fonttools>=4.22.0 in c:\\users\\judit\\appdata\\local\\programs\\python\\python313\\lib\\site-packages (from matplotlib) (4.56.0)\n",
      "Requirement already satisfied: kiwisolver>=1.3.1 in c:\\users\\judit\\appdata\\local\\programs\\python\\python313\\lib\\site-packages (from matplotlib) (1.4.8)\n",
      "Requirement already satisfied: packaging>=20.0 in c:\\users\\judit\\appdata\\local\\programs\\python\\python313\\lib\\site-packages (from matplotlib) (24.2)\n",
      "Requirement already satisfied: pillow>=8 in c:\\users\\judit\\appdata\\local\\programs\\python\\python313\\lib\\site-packages (from matplotlib) (11.1.0)\n",
      "Requirement already satisfied: pyparsing>=2.3.1 in c:\\users\\judit\\appdata\\local\\programs\\python\\python313\\lib\\site-packages (from matplotlib) (3.2.3)\n",
      "Requirement already satisfied: scipy>=1.6.0 in c:\\users\\judit\\appdata\\local\\programs\\python\\python313\\lib\\site-packages (from scikit-learn) (1.15.2)\n",
      "Requirement already satisfied: joblib>=1.2.0 in c:\\users\\judit\\appdata\\local\\programs\\python\\python313\\lib\\site-packages (from scikit-learn) (1.4.2)\n",
      "Requirement already satisfied: threadpoolctl>=3.1.0 in c:\\users\\judit\\appdata\\local\\programs\\python\\python313\\lib\\site-packages (from scikit-learn) (3.6.0)\n",
      "Requirement already satisfied: et-xmlfile in c:\\users\\judit\\appdata\\local\\programs\\python\\python313\\lib\\site-packages (from openpyxl) (2.0.0)\n",
      "Requirement already satisfied: six>=1.5 in c:\\users\\judit\\appdata\\local\\programs\\python\\python313\\lib\\site-packages (from python-dateutil>=2.8.2->pandas) (1.17.0)\n",
      "Note: you may need to restart the kernel to use updated packages.\n"
     ]
    }
   ],
   "source": [
    "pip install pandas numpy matplotlib seaborn scikit-learn openpyxl biopython"
   ]
  },
  {
   "cell_type": "code",
   "execution_count": 5,
   "id": "9605d5fe-646b-4f59-93d3-654d47a817ae",
   "metadata": {},
   "outputs": [],
   "source": [
    "import pandas as pd\n",
    "\n",
    "genoma='C:/Users/judit/OneDrive/Escritorio/MÁSTER/TFM/Bases de datos/BVBRC_genome_amr.xlsx'\n",
    "df_genoma = pd.read_excel(genoma)\n",
    "\n",
    "genes='C:/Users/judit/OneDrive/Escritorio/MÁSTER/TFM/Bases de datos/BVBRC_sp_gene.xlsx'\n",
    "df_genes = pd.read_excel(genes)"
   ]
  },
  {
   "cell_type": "code",
   "execution_count": null,
   "id": "c60b0958-640b-421f-a843-db5b76b5aff2",
   "metadata": {},
   "outputs": [],
   "source": [
    "from Bio import SeqIO\n",
    "genes_fasta='C:/Users/judit/OneDrive/Escritorio/MÁSTER/TFM/Bases de datos/BVBRC_genome_feature.fasta'\n",
    "\n",
    "for record in SeqIO.parse(genes_fasta, \"fasta\"):\n",
    "    print(\"ID:\", record.id)\n",
    "    print(\"Descripción:\", record.description)\n",
    "    print(\"Secuencia de la proteína:\", record.seq)\n",
    "    print(\"Longitud de la secuencia:\", len(record.seq))\n",
    "    print(\"-\" * 50)"
   ]
  },
  {
   "cell_type": "code",
   "execution_count": 10,
   "id": "74f76ee1-1ac4-4000-a214-85b26b70e65b",
   "metadata": {},
   "outputs": [],
   "source": [
    "# Seleccionar las columnas clave\n",
    "df_genoma = df_genoma[['Genome Name', 'Resistant Phenotype']]\n",
    "df_genes = df_genes[['Genome Name', 'BRC ID']]"
   ]
  },
  {
   "cell_type": "code",
   "execution_count": 11,
   "id": "42bf50f7-cf4f-4929-870c-ed8ce6e8e199",
   "metadata": {},
   "outputs": [],
   "source": [
    "#Convertir resistencia a binario (1=Resistente, 0=Susceptible)\n",
    "df_genoma['Resistance'] = df_genoma['Resistant Phenotype'].apply(lambda x: 1 if 'Carbapenem' in str(x) else 0)\n",
    "df_genoma = df_genoma[['Genome Name', 'Resistance']]"
   ]
  },
  {
   "cell_type": "code",
   "execution_count": 33,
   "id": "d1fb1d63-24b5-4cd7-a12b-b76a70d53505",
   "metadata": {},
   "outputs": [],
   "source": [
    "# Crear matriz de presencia/ausencia de genes\n",
    "gene_presence = df_genes.pivot_table(index='Genome Name', columns='BRC ID', aggfunc=lambda x: 1, fill_value=0)\n",
    "\n",
    "# Contar en cuántos genomas aparece cada gen\n",
    "gene_counts = gene_presence.sum(axis=0)\n",
    "\n",
    "df_genoma[\"Genome Name\"] = df_genoma[\"Genome Name\"].str.strip().str.lower()\n",
    "gene_presence.index = gene_presence.index.str.strip().str.lower()\n",
    "\n",
    "# Filtrar genes que están en al menos el 1% de los genomas\n",
    "threshold = len(df_genoma) * 0.01\n",
    "selected_genes = gene_counts[gene_counts > threshold].index\n",
    "gene_presence_filtered = gene_presence[selected_genes]\n",
    "\n",
    "df_final = df_genoma.merge(gene_presence, left_on='Genome Name', right_index=True, how='left').fillna(0)"
   ]
  },
  {
   "cell_type": "code",
   "execution_count": 36,
   "id": "50358cd5-d06f-4f1f-af50-94ce324b9072",
   "metadata": {},
   "outputs": [],
   "source": [
    "from sklearn.model_selection import train_test_split\n",
    "\n",
    "# Separar en conjuntos de entrenamiento y prueba\n",
    "X = df_final.drop(columns=['Genome Name', 'Resistance'])\n",
    "y = df_final['Resistance']\n",
    "\n",
    "X_train, X_test, y_train, y_test = train_test_split(X, y, test_size=0.3, random_state=42, stratify=y)"
   ]
  },
  {
   "cell_type": "code",
   "execution_count": 37,
   "id": "0d7f1381-6c5b-40e4-9e93-f14efee2c41f",
   "metadata": {},
   "outputs": [
    {
     "name": "stdout",
     "output_type": "stream",
     "text": [
      "Tamaño del conjunto de entrenamiento: (74456, 5341)\n",
      "Tamaño del conjunto de prueba: (31910, 5341)\n"
     ]
    }
   ],
   "source": [
    "# Verificar dimensiones\n",
    "print(\"Tamaño del conjunto de entrenamiento:\", X_train.shape)\n",
    "print(\"Tamaño del conjunto de prueba:\", X_test.shape)"
   ]
  },
  {
   "cell_type": "code",
   "execution_count": 38,
   "id": "aeea992d-d3c9-48b1-a347-079acdc1ca8c",
   "metadata": {},
   "outputs": [
    {
     "name": "stdout",
     "output_type": "stream",
     "text": [
      "Tamaño del conjunto final: (106366, 5343)\n"
     ]
    }
   ],
   "source": [
    "print(\"Tamaño del conjunto final:\", df_final.shape)"
   ]
  }
 ],
 "metadata": {
  "kernelspec": {
   "display_name": "Python 3 (ipykernel)",
   "language": "python",
   "name": "python3"
  },
  "language_info": {
   "codemirror_mode": {
    "name": "ipython",
    "version": 3
   },
   "file_extension": ".py",
   "mimetype": "text/x-python",
   "name": "python",
   "nbconvert_exporter": "python",
   "pygments_lexer": "ipython3",
   "version": "3.13.2"
  }
 },
 "nbformat": 4,
 "nbformat_minor": 5
}
